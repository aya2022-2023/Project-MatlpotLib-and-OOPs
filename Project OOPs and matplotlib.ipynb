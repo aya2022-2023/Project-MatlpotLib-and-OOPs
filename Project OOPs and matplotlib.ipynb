{
 "cells": [
  {
   "cell_type": "code",
   "execution_count": 9,
   "id": "bd683b7d",
   "metadata": {},
   "outputs": [
    {
     "name": "stdout",
     "output_type": "stream",
     "text": [
      "BMW has low sound\n",
      "The BMW of black color has 170 mile per hour speed\n"
     ]
    }
   ],
   "source": [
    "\n",
    "#PROBLEM2\n",
    "class Car():\n",
    "\n",
    "    # initializer with instance attributes\n",
    "    def __init__(self, name, price, color):\n",
    "        self.name = name\n",
    "        self.price = price\n",
    "        self.color = color\n",
    "        \n",
    "    def sound(self,sound):\n",
    "        return \"{} has {} sound\".format(self.name, sound)\n",
    "   \n",
    "    def speed(self,speed):\n",
    "        return \"The {} of {} color has {} mile per hour speed\".format(self.name,self.color, speed)\n",
    "    \n",
    "    def display(self,sound,speed):\n",
    "        print(self.sound(sound))\n",
    "        print(self.speed(speed))\n",
    "   \n",
    "        \n",
    "call= Car(\"BMW\",\"80000 euros\",\"black\")\n",
    "#print(call.sound(\"high\"))\n",
    "#print(call.speed(\"170\"))\n",
    "call.display(\"low\",170)"
   ]
  },
  {
   "cell_type": "code",
   "execution_count": 16,
   "id": "345bf2e4",
   "metadata": {},
   "outputs": [
    {
     "name": "stdout",
     "output_type": "stream",
     "text": [
      "POLO has high sound\n",
      "The POLO of white color has 100 mile per hour speed\n"
     ]
    }
   ],
   "source": [
    "#inheritant\n",
    "class Thar(Car):\n",
    "     pass\n",
    "    \n",
    "obj= Thar(\"POLO\",\"10000 euros\",\"white\")\n",
    "print(obj.sound(\"high\"))\n",
    "print(obj.speed(\"100\"))\n",
    "#obj.display(\"low\",170)"
   ]
  },
  {
   "cell_type": "code",
   "execution_count": null,
   "id": "0c0dc88c",
   "metadata": {},
   "outputs": [],
   "source": [
    "#PROBLEM1"
   ]
  },
  {
   "cell_type": "code",
   "execution_count": null,
   "id": "e30360a2",
   "metadata": {},
   "outputs": [],
   "source": [
    "import pandas as pd\n",
    "import matplotlib.pyplot as plt\n",
    "%matplotlib inline\n",
    "\n",
    "df = pd.read_csv(\"pp-2018.csv\")\n",
    "df.head(5)\n",
    "\n",
    "#df.describe()\n",
    "#df.info()\n",
    "#BAR PLOT\n",
    "#a=Data = df.groupby(['New Build'])['Tenure']\n"
   ]
  },
  {
   "cell_type": "code",
   "execution_count": null,
   "id": "0a7a5d70",
   "metadata": {},
   "outputs": [],
   "source": [
    "import pandas as pd\n",
    "import matplotlib.pyplot as plt\n",
    "\n",
    "# Load the csv file into a pandas dataframe\n",
    "df = pd.read_csv('pp-2018.csv')\n",
    "\n",
    "# Group the data by \"New Build\" and \"Tenure\" columns and get their counts\n",
    "grouped_df = df.groupby(['New Build', 'Tenure']).size().reset_index(name='counts')\n",
    "\n",
    "# Pivot the table to make it suitable for plotting\n",
    "pivoted_df = grouped_df.pivot(index='New Build', columns='Tenure', values='counts')\n",
    "\n",
    "# Create a bar plot using matplotlib\n",
    "pivoted_df.plot(kind='bar', stacked=True)\n",
    "\n",
    "# Set the plot title and axis labels\n",
    "plt.title('New Build vs Tenure')\n",
    "plt.xlabel('New Build')\n",
    "plt.ylabel('Count')\n",
    "\n",
    "# Display the plot\n",
    "plt.show()"
   ]
  },
  {
   "cell_type": "code",
   "execution_count": null,
   "id": "a5a0f597",
   "metadata": {},
   "outputs": [],
   "source": []
  }
 ],
 "metadata": {
  "kernelspec": {
   "display_name": "Python 3 (ipykernel)",
   "language": "python",
   "name": "python3"
  },
  "language_info": {
   "codemirror_mode": {
    "name": "ipython",
    "version": 3
   },
   "file_extension": ".py",
   "mimetype": "text/x-python",
   "name": "python",
   "nbconvert_exporter": "python",
   "pygments_lexer": "ipython3",
   "version": "3.9.13"
  }
 },
 "nbformat": 4,
 "nbformat_minor": 5
}
